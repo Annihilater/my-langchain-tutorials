{
 "cells": [
  {
   "cell_type": "code",
   "execution_count": null,
   "id": "5e5e838a-50af-4a2b-ab41-2beb92b7721d",
   "metadata": {},
   "outputs": [
    {
     "name": "stdout",
     "output_type": "stream",
     "text": [
      "Looking in indexes: https://pypi.tuna.tsinghua.edu.cn/simple\n",
      "Requirement already satisfied: langchain in /Users/ziji/miniconda3/envs/my-langchain-tutorials/lib/python3.13/site-packages (0.3.24)\n",
      "Requirement already satisfied: langchain_openai in /Users/ziji/miniconda3/envs/my-langchain-tutorials/lib/python3.13/site-packages (0.3.14)\n",
      "Requirement already satisfied: langgraph in /Users/ziji/miniconda3/envs/my-langchain-tutorials/lib/python3.13/site-packages (0.3.34)\n",
      "Requirement already satisfied: google-search-results in /Users/ziji/miniconda3/envs/my-langchain-tutorials/lib/python3.13/site-packages (2.4.2)\n",
      "Requirement already satisfied: langchain-core<1.0.0,>=0.3.55 in /Users/ziji/miniconda3/envs/my-langchain-tutorials/lib/python3.13/site-packages (from langchain) (0.3.56)\n",
      "Requirement already satisfied: langchain-text-splitters<1.0.0,>=0.3.8 in /Users/ziji/miniconda3/envs/my-langchain-tutorials/lib/python3.13/site-packages (from langchain) (0.3.8)\n",
      "Requirement already satisfied: langsmith<0.4,>=0.1.17 in /Users/ziji/miniconda3/envs/my-langchain-tutorials/lib/python3.13/site-packages (from langchain) (0.3.34)\n",
      "Requirement already satisfied: pydantic<3.0.0,>=2.7.4 in /Users/ziji/miniconda3/envs/my-langchain-tutorials/lib/python3.13/site-packages (from langchain) (2.11.3)\n",
      "Requirement already satisfied: SQLAlchemy<3,>=1.4 in /Users/ziji/miniconda3/envs/my-langchain-tutorials/lib/python3.13/site-packages (from langchain) (2.0.40)\n",
      "Requirement already satisfied: requests<3,>=2 in /Users/ziji/miniconda3/envs/my-langchain-tutorials/lib/python3.13/site-packages (from langchain) (2.32.3)\n",
      "Requirement already satisfied: PyYAML>=5.3 in /Users/ziji/miniconda3/envs/my-langchain-tutorials/lib/python3.13/site-packages (from langchain) (6.0.2)\n",
      "Requirement already satisfied: openai<2.0.0,>=1.68.2 in /Users/ziji/miniconda3/envs/my-langchain-tutorials/lib/python3.13/site-packages (from langchain_openai) (1.76.0)\n",
      "Requirement already satisfied: tiktoken<1,>=0.7 in /Users/ziji/miniconda3/envs/my-langchain-tutorials/lib/python3.13/site-packages (from langchain_openai) (0.9.0)\n",
      "Requirement already satisfied: langgraph-checkpoint<3.0.0,>=2.0.10 in /Users/ziji/miniconda3/envs/my-langchain-tutorials/lib/python3.13/site-packages (from langgraph) (2.0.24)\n",
      "Requirement already satisfied: langgraph-prebuilt<0.2,>=0.1.8 in /Users/ziji/miniconda3/envs/my-langchain-tutorials/lib/python3.13/site-packages (from langgraph) (0.1.8)\n",
      "Requirement already satisfied: langgraph-sdk<0.2.0,>=0.1.42 in /Users/ziji/miniconda3/envs/my-langchain-tutorials/lib/python3.13/site-packages (from langgraph) (0.1.63)\n",
      "Requirement already satisfied: xxhash<4.0.0,>=3.5.0 in /Users/ziji/miniconda3/envs/my-langchain-tutorials/lib/python3.13/site-packages (from langgraph) (3.5.0)\n",
      "Requirement already satisfied: tenacity!=8.4.0,<10.0.0,>=8.1.0 in /Users/ziji/miniconda3/envs/my-langchain-tutorials/lib/python3.13/site-packages (from langchain-core<1.0.0,>=0.3.55->langchain) (9.1.2)\n",
      "Requirement already satisfied: jsonpatch<2.0,>=1.33 in /Users/ziji/miniconda3/envs/my-langchain-tutorials/lib/python3.13/site-packages (from langchain-core<1.0.0,>=0.3.55->langchain) (1.33)\n",
      "Requirement already satisfied: packaging<25,>=23.2 in /Users/ziji/miniconda3/envs/my-langchain-tutorials/lib/python3.13/site-packages (from langchain-core<1.0.0,>=0.3.55->langchain) (24.2)\n",
      "Requirement already satisfied: typing-extensions>=4.7 in /Users/ziji/miniconda3/envs/my-langchain-tutorials/lib/python3.13/site-packages (from langchain-core<1.0.0,>=0.3.55->langchain) (4.13.2)\n",
      "Requirement already satisfied: ormsgpack<2.0.0,>=1.8.0 in /Users/ziji/miniconda3/envs/my-langchain-tutorials/lib/python3.13/site-packages (from langgraph-checkpoint<3.0.0,>=2.0.10->langgraph) (1.9.1)\n",
      "Requirement already satisfied: httpx>=0.25.2 in /Users/ziji/miniconda3/envs/my-langchain-tutorials/lib/python3.13/site-packages (from langgraph-sdk<0.2.0,>=0.1.42->langgraph) (0.28.1)\n",
      "Requirement already satisfied: orjson>=3.10.1 in /Users/ziji/miniconda3/envs/my-langchain-tutorials/lib/python3.13/site-packages (from langgraph-sdk<0.2.0,>=0.1.42->langgraph) (3.10.16)\n",
      "Requirement already satisfied: requests-toolbelt<2.0.0,>=1.0.0 in /Users/ziji/miniconda3/envs/my-langchain-tutorials/lib/python3.13/site-packages (from langsmith<0.4,>=0.1.17->langchain) (1.0.0)\n",
      "Requirement already satisfied: zstandard<0.24.0,>=0.23.0 in /Users/ziji/miniconda3/envs/my-langchain-tutorials/lib/python3.13/site-packages (from langsmith<0.4,>=0.1.17->langchain) (0.23.0)\n",
      "Requirement already satisfied: anyio<5,>=3.5.0 in /Users/ziji/miniconda3/envs/my-langchain-tutorials/lib/python3.13/site-packages (from openai<2.0.0,>=1.68.2->langchain_openai) (4.9.0)\n",
      "Requirement already satisfied: distro<2,>=1.7.0 in /Users/ziji/miniconda3/envs/my-langchain-tutorials/lib/python3.13/site-packages (from openai<2.0.0,>=1.68.2->langchain_openai) (1.9.0)\n",
      "Requirement already satisfied: jiter<1,>=0.4.0 in /Users/ziji/miniconda3/envs/my-langchain-tutorials/lib/python3.13/site-packages (from openai<2.0.0,>=1.68.2->langchain_openai) (0.9.0)\n",
      "Requirement already satisfied: sniffio in /Users/ziji/miniconda3/envs/my-langchain-tutorials/lib/python3.13/site-packages (from openai<2.0.0,>=1.68.2->langchain_openai) (1.3.1)\n",
      "Requirement already satisfied: tqdm>4 in /Users/ziji/miniconda3/envs/my-langchain-tutorials/lib/python3.13/site-packages (from openai<2.0.0,>=1.68.2->langchain_openai) (4.67.1)\n",
      "Requirement already satisfied: annotated-types>=0.6.0 in /Users/ziji/miniconda3/envs/my-langchain-tutorials/lib/python3.13/site-packages (from pydantic<3.0.0,>=2.7.4->langchain) (0.7.0)\n",
      "Requirement already satisfied: pydantic-core==2.33.1 in /Users/ziji/miniconda3/envs/my-langchain-tutorials/lib/python3.13/site-packages (from pydantic<3.0.0,>=2.7.4->langchain) (2.33.1)\n",
      "Requirement already satisfied: typing-inspection>=0.4.0 in /Users/ziji/miniconda3/envs/my-langchain-tutorials/lib/python3.13/site-packages (from pydantic<3.0.0,>=2.7.4->langchain) (0.4.0)\n",
      "Requirement already satisfied: charset-normalizer<4,>=2 in /Users/ziji/miniconda3/envs/my-langchain-tutorials/lib/python3.13/site-packages (from requests<3,>=2->langchain) (3.4.1)\n",
      "Requirement already satisfied: idna<4,>=2.5 in /Users/ziji/miniconda3/envs/my-langchain-tutorials/lib/python3.13/site-packages (from requests<3,>=2->langchain) (3.10)\n",
      "Requirement already satisfied: urllib3<3,>=1.21.1 in /Users/ziji/miniconda3/envs/my-langchain-tutorials/lib/python3.13/site-packages (from requests<3,>=2->langchain) (2.4.0)\n",
      "Requirement already satisfied: certifi>=2017.4.17 in /Users/ziji/miniconda3/envs/my-langchain-tutorials/lib/python3.13/site-packages (from requests<3,>=2->langchain) (2025.1.31)\n",
      "Requirement already satisfied: regex>=2022.1.18 in /Users/ziji/miniconda3/envs/my-langchain-tutorials/lib/python3.13/site-packages (from tiktoken<1,>=0.7->langchain_openai) (2024.11.6)\n",
      "Requirement already satisfied: httpcore==1.* in /Users/ziji/miniconda3/envs/my-langchain-tutorials/lib/python3.13/site-packages (from httpx>=0.25.2->langgraph-sdk<0.2.0,>=0.1.42->langgraph) (1.0.9)\n",
      "Requirement already satisfied: h11>=0.16 in /Users/ziji/miniconda3/envs/my-langchain-tutorials/lib/python3.13/site-packages (from httpcore==1.*->httpx>=0.25.2->langgraph-sdk<0.2.0,>=0.1.42->langgraph) (0.16.0)\n",
      "Requirement already satisfied: jsonpointer>=1.9 in /Users/ziji/miniconda3/envs/my-langchain-tutorials/lib/python3.13/site-packages (from jsonpatch<2.0,>=1.33->langchain-core<1.0.0,>=0.3.55->langchain) (3.0.0)\n",
      "Note: you may need to restart the kernel to use updated packages.\n"
     ]
    }
   ],
   "source": [
    "%pip install langchain langchain_openai langgraph google-search-results "
   ]
  },
  {
   "cell_type": "code",
   "execution_count": 4,
   "id": "3e37ef45",
   "metadata": {},
   "outputs": [
    {
     "name": "stdout",
     "output_type": "stream",
     "text": [
      "Looking in indexes: https://pypi.tuna.tsinghua.edu.cn/simple\n",
      "Requirement already satisfied: python-dotenv in /Users/ziji/miniconda3/envs/my-langchain-tutorials/lib/python3.13/site-packages (1.1.0)\n",
      "Note: you may need to restart the kernel to use updated packages.\n"
     ]
    }
   ],
   "source": [
    "%pip install python-dotenv"
   ]
  },
  {
   "cell_type": "code",
   "execution_count": 6,
   "id": "261f709d-5152-4574-83bd-f51c8105c4c9",
   "metadata": {},
   "outputs": [
    {
     "data": {
      "text/plain": [
       "True"
      ]
     },
     "execution_count": 6,
     "metadata": {},
     "output_type": "execute_result"
    }
   ],
   "source": [
    "import getpass\n",
    "import os\n",
    "\n",
    "from dotenv import load_dotenv\n",
    "\n",
    "load_dotenv()"
   ]
  },
  {
   "cell_type": "code",
   "execution_count": 7,
   "id": "b5d3b7cc-040f-4dc3-ac95-3e405dd18473",
   "metadata": {},
   "outputs": [
    {
     "name": "stdout",
     "output_type": "stream",
     "text": [
      "https://burn.hair/v1\n"
     ]
    }
   ],
   "source": [
    "if not os.environ.get(\"OPENAI_API_KEY\"):\n",
    "  os.environ[\"OPENAI_API_KEY\"] = getpass.getpass(\"Enter API key for OpenAI: \")\n",
    "\n",
    "#print(os.environ.get(\"OPENAI_API_KEY\"))\n",
    "print(os.environ.get(\"OPENAI_BASE_URL\"))"
   ]
  },
  {
   "cell_type": "code",
   "execution_count": null,
   "id": "49935938",
   "metadata": {},
   "outputs": [
    {
     "name": "stdout",
     "output_type": "stream",
     "text": [
      "content='Hello! How can I assist you today?' additional_kwargs={} response_metadata={'token_usage': {'completion_tokens': 9, 'prompt_tokens': 11, 'total_tokens': 20, 'completion_tokens_details': None, 'prompt_tokens_details': None}, 'model_name': 'gpt-3.5-turbo', 'system_fingerprint': 'fp_0165350fbb', 'finish_reason': 'stop', 'logprobs': None} id='run-66977499-7ceb-4954-a785-86b44684dc87-0'\n"
     ]
    }
   ],
   "source": [
    "from langchain.chat_models import ChatOpenAI\n",
    "\n",
    "llm = ChatOpenAI(\n",
    "    model_name=\"gpt-3.5-turbo\",\n",
    "    openai_api_base=os.environ.get(\"OPENAI_BASE_URL\"),\n",
    "    openai_api_key=os.environ.get(\"OPENAI_API_KEY\"),\n",
    ")\n",
    "\n",
    "print(llm.invoke(\"Hello, world!\").content)"
   ]
  },
  {
   "cell_type": "code",
   "execution_count": null,
   "id": "21ed9e58",
   "metadata": {},
   "outputs": [],
   "source": []
  }
 ],
 "metadata": {
  "kernelspec": {
   "display_name": "Python 3",
   "language": "python",
   "name": "python3"
  },
  "language_info": {
   "codemirror_mode": {
    "name": "ipython",
    "version": 3
   },
   "file_extension": ".py",
   "mimetype": "text/x-python",
   "name": "python",
   "nbconvert_exporter": "python",
   "pygments_lexer": "ipython3",
   "version": "3.13.2"
  }
 },
 "nbformat": 4,
 "nbformat_minor": 5
}
